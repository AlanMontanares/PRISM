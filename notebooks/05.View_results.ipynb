{
 "cells": [
  {
   "cell_type": "code",
   "execution_count": null,
   "id": "e706bb75",
   "metadata": {},
   "outputs": [],
   "source": [
    "import sys\n",
    "import os\n",
    "\n",
    "sys.path.append(os.path.abspath(os.path.join(os.getcwd(), \"..\")))\n",
    "\n",
    "from utils.plot_functions import *"
   ]
  },
  {
   "cell_type": "code",
   "execution_count": null,
   "id": "8e21b93f",
   "metadata": {},
   "outputs": [],
   "source": [
    "resultados = {\n",
    "              \"Baseline Sersic OIDS Resnet18\": load__preds(\"delight_baseline_resnet18\"),\n",
    "              \"Baseline Sersic OIDS Resnet18 dataset[x30] BS512\": load__preds(\"delight_augmented_x30_resnet18\"),\n",
    "              \"Baseline Sersic OIDS\": load__preds(\"delight_baseline_sersic_oids\"),\n",
    "              \"Augmented dataset[x30] BS 512\": load__preds(\"delight_augmented_x30_sersic_oids\"),\n",
    "              \"Augmented dataset[x30] balanced v2 log\": load__preds(\"delight_augmented_x30_sersic_oids_balanced_log_01_50\"),\n",
    "\n",
    "              }"
   ]
  },
  {
   "cell_type": "code",
   "execution_count": null,
   "id": "28555fa5",
   "metadata": {},
   "outputs": [],
   "source": [
    "plot_residuals_vs_host_dist(resultados, experiments=[\"Baseline Sersic OIDS\",\n",
    "                                                     \"Augmented dataset[x30] BS 512\",\n",
    "                                                     \"Augmented dataset[x30] balanced v2 log\"],\n",
    "                                            \n",
    "                                        titles = [\"Baseline\",\"Autolabeling\", \"Autolabeling log-balanced\"],\n",
    "                                        cmap_name =\"cool\",\n",
    "                                        dpi=300)"
   ]
  },
  {
   "cell_type": "code",
   "execution_count": null,
   "id": "5800775e",
   "metadata": {},
   "outputs": [],
   "source": [
    "for title, _ in resultados.items():\n",
    "    print(title.upper())\n",
    "    print_metrics(resultados, title)\n",
    "    print(\"\")"
   ]
  }
 ],
 "metadata": {
  "kernelspec": {
   "display_name": "prism-py3.11",
   "language": "python",
   "name": "python3"
  },
  "language_info": {
   "codemirror_mode": {
    "name": "ipython",
    "version": 3
   },
   "file_extension": ".py",
   "mimetype": "text/x-python",
   "name": "python",
   "nbconvert_exporter": "python",
   "pygments_lexer": "ipython3",
   "version": "3.11.9"
  }
 },
 "nbformat": 4,
 "nbformat_minor": 5
}
