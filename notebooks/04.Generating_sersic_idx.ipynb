{
 "cells": [
  {
   "cell_type": "code",
   "execution_count": null,
   "id": "f852a693",
   "metadata": {},
   "outputs": [],
   "source": [
    "import numpy as np\n",
    "import pandas as pd\n",
    "import matplotlib.pyplot as plt\n",
    "\n",
    "import sys\n",
    "import os\n",
    "\n",
    "sys.path.append(os.path.abspath(os.path.join(os.getcwd(), \"..\")))"
   ]
  },
  {
   "cell_type": "code",
   "execution_count": null,
   "id": "7e8eb46e",
   "metadata": {},
   "outputs": [],
   "source": [
    "df = pd.read_csv(\"../data/SERSIC/df_coords_fix.csv\", dtype={'objID': 'Int64'})"
   ]
  },
  {
   "cell_type": "code",
   "execution_count": null,
   "id": "67150bd4",
   "metadata": {},
   "outputs": [],
   "source": [
    "oid_train = np.load(\"..\\data\\DELIGHT\\id_train.npy\",allow_pickle=True)\n",
    "oid_val = np.load(\"..\\data\\DELIGHT\\id_validation.npy\",allow_pickle=True)\n",
    "\n",
    "idx_train = df[df['oid'].isin(oid_train)].index.to_numpy()\n",
    "idx_val = df[df['oid'].isin(oid_val)].index.to_numpy()\n",
    "idx_test = np.setdiff1d(df.index, np.union1d(idx_train, idx_val))"
   ]
  },
  {
   "cell_type": "code",
   "execution_count": null,
   "id": "bec2eb37",
   "metadata": {},
   "outputs": [],
   "source": [
    "df_train = df.iloc[idx_train]\n",
    "df_val = df.iloc[idx_val]\n",
    "df_test = df.iloc[idx_test]"
   ]
  },
  {
   "cell_type": "code",
   "execution_count": null,
   "id": "9831d68d",
   "metadata": {},
   "outputs": [],
   "source": [
    "train_host = set(df_train['host_name'])\n",
    "val_host = set(df_val['host_name'])\n",
    "test_host = set(df_test['host_name'])\n",
    "\n",
    "# Intersecciones\n",
    "inter_train_val = train_host & val_host\n",
    "inter_train_test = train_host & test_host\n",
    "\n",
    "duplicated_host = (train_host & val_host) | (train_host & test_host)"
   ]
  },
  {
   "cell_type": "code",
   "execution_count": null,
   "id": "99a3927c",
   "metadata": {},
   "outputs": [],
   "source": [
    "df_train = df_train[~df_train['host_name'].isin(duplicated_host)].copy()"
   ]
  },
  {
   "cell_type": "code",
   "execution_count": null,
   "id": "3d242222",
   "metadata": {},
   "outputs": [],
   "source": [
    "ser_columns = [\n",
    "    \"host_name\", \n",
    "    \"rSerRadius\", \"rSerAb\", \"rSerPhi\", \n",
    "]"
   ]
  },
  {
   "cell_type": "code",
   "execution_count": null,
   "id": "a9b54fb2",
   "metadata": {},
   "outputs": [],
   "source": [
    "df_train = (\n",
    "    df_train.dropna(subset=ser_columns)                        # Eliminamos ejemplos con nan\n",
    "      .loc[~(df_train[ser_columns] == -999).any(axis=1)]       # Eliminamos ejemplos con -999\n",
    "      .drop_duplicates(subset=\"host_name\")                     # Eliminamos galaxias duplicadas\n",
    ")"
   ]
  },
  {
   "cell_type": "code",
   "execution_count": null,
   "id": "1942ac02",
   "metadata": {},
   "outputs": [],
   "source": [
    "print(df_train[\"rSerRadius\"].max()*3/0.25)\n",
    "print(df_train[\"rSerRadius\"].median()*3/0.25)\n",
    "print(df_train[\"rSerRadius\"].mean()*3/0.25)\n",
    "print(df_train[\"rSerRadius\"].std()*3/0.25)\n",
    "\n",
    "plt.hist(df_train[\"rSerRadius\"]*3/0.25, bins=\"auto\")\n",
    "plt.xlabel(\"Radio elipse en pixeles\")\n",
    "plt.show()"
   ]
  },
  {
   "cell_type": "code",
   "execution_count": null,
   "id": "7ad54d02",
   "metadata": {},
   "outputs": [],
   "source": [
    "train_oid_sersic = df_train[\"oid\"].values\n",
    "val_oid_sersic = df_val[\"oid\"].values\n",
    "test_oid_sersic = df_test[\"oid\"].values"
   ]
  },
  {
   "cell_type": "code",
   "execution_count": null,
   "id": "dcf15dcc",
   "metadata": {},
   "outputs": [],
   "source": [
    "np.save(f'..\\data\\SERSIC/id_train.npy', train_oid_sersic)\n",
    "np.save(f'..\\data\\SERSIC/id_validation.npy', val_oid_sersic)\n",
    "np.save(f'..\\data\\SERSIC/id_test.npy', test_oid_sersic)\n",
    "\n",
    "df_train.to_csv(\"../data/SERSIC/df_train.csv\", index=False)"
   ]
  },
  {
   "cell_type": "code",
   "execution_count": null,
   "id": "64941ea2",
   "metadata": {},
   "outputs": [],
   "source": [
    "bins= np.linspace(0,140,10)\n",
    "plt.hist(df_train[\"hostsize\"], bins=bins, histtype=\"step\", label=\"Train\", linewidth=1.5)\n",
    "plt.hist(df_val[\"hostsize\"], bins=bins, histtype=\"step\", label=\"Val\", linewidth=1.5)\n",
    "plt.hist(df_test[\"hostsize\"], bins=bins, histtype=\"step\", label=\"Test\", linewidth=1.5)\n",
    "plt.legend()\n",
    "plt.show()"
   ]
  }
 ],
 "metadata": {
  "kernelspec": {
   "display_name": "prism-py3.11",
   "language": "python",
   "name": "python3"
  },
  "language_info": {
   "codemirror_mode": {
    "name": "ipython",
    "version": 3
   },
   "file_extension": ".py",
   "mimetype": "text/x-python",
   "name": "python",
   "nbconvert_exporter": "python",
   "pygments_lexer": "ipython3",
   "version": "3.11.9"
  }
 },
 "nbformat": 4,
 "nbformat_minor": 5
}
