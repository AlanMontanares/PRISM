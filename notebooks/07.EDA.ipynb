{
 "cells": [
  {
   "cell_type": "code",
   "execution_count": null,
   "id": "f68f0101",
   "metadata": {},
   "outputs": [],
   "source": [
    "import numpy as np\n",
    "import pandas as pd\n",
    "import matplotlib.pyplot as plt\n",
    "import torch"
   ]
  },
  {
   "cell_type": "code",
   "execution_count": null,
   "id": "a72759c4",
   "metadata": {},
   "outputs": [],
   "source": [
    "df = pd.read_csv(\"..\\data\\SERSIC\\df_train.csv\")\n",
    "\n",
    "data = np.load(\"..\\data\\SERSIC\\X_train_augmented_x30.npz\")\n",
    "y_train = data[\"pos\"]\n",
    "\n",
    "df_repetido = df.loc[df.index.repeat(30)].reset_index(drop=True)\n",
    "\n",
    "pos = torch.tensor(df[[\"dx\",\"dy\"]].values)\n",
    "dist_host_pix = torch.norm(pos, dim=1)\n",
    "\n",
    "new_pos = torch.tensor(y_train)\n",
    "new_dist_host_pix = torch.norm(new_pos, dim=1)"
   ]
  },
  {
   "cell_type": "code",
   "execution_count": null,
   "id": "0f583fcf",
   "metadata": {},
   "outputs": [],
   "source": [
    "df_pasquet = pd.read_csv(\"..\\data\\SERSIC\\df_pasquet_train.csv\")\n",
    "\n",
    "data_pasquet = np.load(\"..\\data\\SERSIC\\X_train_pasquet_augmented_x10.npz\")\n",
    "y_train_2 = data_pasquet[\"pos\"]\n",
    "\n",
    "df_pasquet_repetido = df_pasquet.loc[df_pasquet.index.repeat(10)].reset_index(drop=True)\n",
    "\n",
    "new_pos_2 = torch.tensor(y_train_2)\n",
    "new_dist_host_pix_2 = torch.norm(new_pos_2, dim=1)"
   ]
  },
  {
   "cell_type": "code",
   "execution_count": null,
   "id": "bef0cc8b",
   "metadata": {},
   "outputs": [],
   "source": [
    "def get_balance_mask(df, seed=0, scale=\"linear\"):\n",
    "\n",
    "    n=12\n",
    "    bins_arcsec = np.linspace(0,300*0.25,n)\n",
    "\n",
    "    df['bin'] = pd.cut(df['rSerRadius'] * 3, bins=bins_arcsec, right=False)\n",
    "    df['bin'] = df['bin'].astype(object)\n",
    "\n",
    "    # Extraer límite izquierdo de cada bin\n",
    "    df['bin_left'] = df['bin'].map(lambda x: x.left if pd.notnull(x) else np.nan)\n",
    "\n",
    "    # Crear máscara inicial\n",
    "    mask = pd.Series(False, index=df.index)\n",
    "\n",
    "    # Bins < 40 → ordenar e interpolar de 10% a 50%\n",
    "    bins_lt_40 = df[df['bin_left'] < 40]['bin'].dropna().unique()\n",
    "    bins_lt_40 = sorted(bins_lt_40, key=lambda x: x.left)  # ordenarlos por el límite izquierdo\n",
    "\n",
    "    n_bins = len(bins_lt_40)\n",
    "    if scale==\"linear\":\n",
    "        fracs = np.linspace(0.05, 0.5, n_bins)  \n",
    "    else:\n",
    "        fracs = np.logspace(np.log10(0.01), np.log10(0.5), n_bins)\n",
    "\n",
    "    for bin_i, frac in zip(bins_lt_40, fracs):\n",
    "        df_bin = df[df['bin'] == bin_i]\n",
    "        n_samples = int(len(df_bin) * frac)\n",
    "        sampled_idx = df_bin.sample(n=n_samples, replace=False, random_state=seed).index\n",
    "        mask.loc[sampled_idx] = True\n",
    "\n",
    "    # Bins >= 40 → conservar todos\n",
    "    mask.loc[df[df['bin_left'] >= 40].index] = True\n",
    "\n",
    "    return mask"
   ]
  },
  {
   "cell_type": "code",
   "execution_count": null,
   "id": "2f167fb5",
   "metadata": {},
   "outputs": [],
   "source": [
    "def gen_mask(df, mask):\n",
    "\n",
    "    idx_tiny = (df[mask]).index\n",
    "    idx_tiny = np.hstack([range(idx*30,idx*30+30) for idx in idx_tiny])\n",
    "\n",
    "    mask_tiny = np.isin(np.arange(len(df)), idx_tiny)\n",
    "\n",
    "    return mask_tiny"
   ]
  },
  {
   "cell_type": "code",
   "execution_count": null,
   "id": "ddf0ce9a",
   "metadata": {},
   "outputs": [],
   "source": [
    "log_mask = get_balance_mask(df, scale=\"log\")\n",
    "linear_mask = get_balance_mask(df, scale=\"linear\")"
   ]
  },
  {
   "cell_type": "code",
   "execution_count": null,
   "id": "16474a6b",
   "metadata": {},
   "outputs": [],
   "source": [
    "log_mask2 = gen_mask(df, log_mask)\n",
    "linear_mask2 = gen_mask(df, linear_mask)"
   ]
  },
  {
   "cell_type": "code",
   "execution_count": null,
   "id": "47e27cd4",
   "metadata": {},
   "outputs": [],
   "source": [
    "n = 12\n",
    "bins_arcsec = np.linspace(0, 300 * 0.25, n)\n",
    "\n",
    "# Colores de la paleta 'cool'\n",
    "colors = plt.cm.cool(np.linspace(0, 1, 4))\n",
    "\n",
    "fig, axs = plt.subplots(1, 2, figsize=(12, 5), sharey=True, dpi=300)\n",
    "\n",
    "# Primer histograma: Sérsic radius\n",
    "axs[0].hist(df_pasquet_repetido[\"rSerRadius\"]*3, bins=bins_arcsec, histtype=\"step\", linewidth=3, color=colors[0], label=\"Augmented x10 Pasquet\")\n",
    "axs[0].hist(df_repetido[\"rSerRadius\"]*3, bins=bins_arcsec, histtype=\"step\", linewidth=3, color=colors[3], label=\"Augmented x30\")\n",
    "\n",
    "\n",
    "axs[0].set_xlabel(\"Sérsic Radius [\\\"]\")\n",
    "axs[0].set_ylabel(\"# ejemplos\")\n",
    "axs[0].set_yscale(\"log\")\n",
    "axs[0].legend()\n",
    "axs[0].set_title(\"Distribución de Sérsic Radius\")\n",
    "\n",
    "# Segundo histograma: Host dist\n",
    "axs[1].hist(new_dist_host_pix_2*0.25, bins=bins_arcsec, histtype=\"step\", linewidth=3, color=colors[0], label=\"Augmented x10 Pasquet\")\n",
    "axs[1].hist(new_dist_host_pix*0.25, bins=bins_arcsec, histtype=\"step\", linewidth=3, color=colors[3], label=\"Augmented x30\")\n",
    "\n",
    "axs[1].set_xlabel(\"Host Dist [\\\"]\")\n",
    "axs[1].set_yscale(\"log\")\n",
    "axs[1].legend()\n",
    "axs[1].set_title(\"Distribución de Distancia al Host\")\n",
    "\n",
    "plt.tight_layout()\n",
    "plt.show()"
   ]
  },
  {
   "cell_type": "code",
   "execution_count": null,
   "id": "e85d5bed",
   "metadata": {},
   "outputs": [],
   "source": [
    "n = 12\n",
    "bins_arcsec = np.linspace(0, 300 * 0.25, n)\n",
    "\n",
    "# Colores de la paleta 'cool'\n",
    "colors = plt.cm.cool(np.linspace(0, 1, 4))\n",
    "\n",
    "fig, axs = plt.subplots(1, 2, figsize=(12, 5), sharey=True, dpi=300)\n",
    "\n",
    "# Primer histograma: Sérsic radius\n",
    "axs[0].hist(df[\"rSerRadius\"]*3, bins=bins_arcsec, histtype=\"step\", linewidth=3, color=colors[0], label=\"Original\")\n",
    "axs[0].hist(df[linear_mask][\"rSerRadius\"]*3, bins=bins_arcsec, histtype=\"step\", linewidth=3, color=colors[1], label=\"Balanced v1\")\n",
    "axs[0].hist(df[log_mask][\"rSerRadius\"]*3, bins=bins_arcsec, histtype=\"step\", linewidth=3, color=colors[2], label=\"Balanced v2\")\n",
    "axs[0].hist(df_repetido[\"rSerRadius\"]*3, bins=bins_arcsec, histtype=\"step\", linewidth=3, color=colors[3], label=\"Augmented x30\")\n",
    "\n",
    "\n",
    "axs[0].set_xlabel(\"Sérsic Radius [\\\"]\")\n",
    "axs[0].set_ylabel(\"# ejemplos\")\n",
    "axs[0].set_yscale(\"log\")\n",
    "axs[0].legend()\n",
    "axs[0].set_title(\"Distribución de Sérsic Radius\")\n",
    "\n",
    "# Segundo histograma: Host dist\n",
    "axs[1].hist((dist_host_pix*0.25), bins=bins_arcsec, histtype=\"step\", linewidth=3, color=colors[0], label=\"Original\")\n",
    "axs[1].hist((new_dist_host_pix*0.25)[linear_mask2], bins=bins_arcsec, histtype=\"step\", linewidth=3, color=colors[1], label=\"Balanced v1\")\n",
    "axs[1].hist((new_dist_host_pix*0.25)[log_mask2], bins=bins_arcsec, histtype=\"step\", linewidth=3, color=colors[2], label=\"Balanced v2\")\n",
    "axs[1].hist(new_dist_host_pix*0.25, bins=bins_arcsec, histtype=\"step\", linewidth=3, color=colors[3], label=\"Augmented x30\")\n",
    "\n",
    "axs[1].set_xlabel(\"Host Dist [\\\"]\")\n",
    "axs[1].set_yscale(\"log\")\n",
    "axs[1].legend()\n",
    "axs[1].set_title(\"Distribución de Distancia al Host\")\n",
    "\n",
    "plt.tight_layout()\n",
    "plt.show()"
   ]
  }
 ],
 "metadata": {
  "kernelspec": {
   "display_name": "prism-py3.11",
   "language": "python",
   "name": "python3"
  },
  "language_info": {
   "codemirror_mode": {
    "name": "ipython",
    "version": 3
   },
   "file_extension": ".py",
   "mimetype": "text/x-python",
   "name": "python",
   "nbconvert_exporter": "python",
   "pygments_lexer": "ipython3",
   "version": "3.11.9"
  }
 },
 "nbformat": 4,
 "nbformat_minor": 5
}
